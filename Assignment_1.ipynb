{
 "cells": [
  {
   "cell_type": "markdown",
   "id": "a11871e2",
   "metadata": {},
   "source": [
    "# Computational Methods in Stochastics - Assignment 1"
   ]
  },
  {
   "cell_type": "markdown",
   "id": "770a032c",
   "metadata": {},
   "source": [
    "Christian Montecchiani "
   ]
  },
  {
   "cell_type": "markdown",
   "id": "2ac97b97",
   "metadata": {},
   "source": [
    "## Exercise 1"
   ]
  },
  {
   "cell_type": "code",
   "execution_count": 1,
   "id": "5431c07b",
   "metadata": {},
   "outputs": [
    {
     "name": "stderr",
     "output_type": "stream",
     "text": [
      "<frozen importlib._bootstrap>:228: RuntimeWarning: scipy._lib.messagestream.MessageStream size changed, may indicate binary incompatibility. Expected 56 from C header, got 64 from PyObject\n"
     ]
    }
   ],
   "source": [
    "# Import cell\n",
    "import random\n",
    "import numpy as np\n",
    "from scipy.stats import moment\n",
    "import matplotlib .pyplot as plt"
   ]
  },
  {
   "cell_type": "code",
   "execution_count": 2,
   "id": "531f0ca7",
   "metadata": {},
   "outputs": [],
   "source": [
    "# Utils cell\n",
    "X_A = 0.5\n",
    "X_B = X_A + 1e-3\n",
    "N = 10000000\n",
    "\n",
    "    \n",
    "def plot_figure(x,y,title):\n",
    "    \n",
    "    plt.figure(figsize = [6 ,3]) \n",
    "    plt.scatter(x,y, s = 70, facecolors = 'none', edgecolors = 'g') \n",
    "    plt.xlabel('x', fontsize = 13, fontstyle = \"italic\")\n",
    "    plt.ylabel('y', fontsize = 13, fontstyle = \"italic\")\n",
    "    plt.title(title, fontsize = 15, fontstyle = \"italic\")\n",
    "    plt.grid()\n",
    "    plt. tight_layout ()\n",
    "    plt.show ()\n",
    "\n",
    "    \n",
    "def plot_compare_RNG(x1,y1, x2, y2, x3, y3):\n",
    "    \n",
    "    fig, axs = plt.subplots(2, 3, figsize = (25,15))\n",
    "\n",
    "    axs[0,0].scatter(x1,y1, s = 70, facecolors = 'none', edgecolors = 'g') \n",
    "    axs[0,0].set_title(f'GGL', fontstyle = 'italic', fontsize = 25)\n",
    "    axs[0,0].set_xlabel ('X', fontsize = 15)\n",
    "    axs[0,0].set_ylabel ('Y', fontsize = 15)\n",
    "    axs[0,0].grid()\n",
    "\n",
    "    axs[0,1].scatter(x2,y2, s = 70, facecolors = 'none', edgecolors = 'g') \n",
    "    axs[0,1].set_title(f'RAN3', fontstyle = 'italic', fontsize = 25)\n",
    "    axs[0,1].set_xlabel ('X', fontsize = 15)\n",
    "    axs[0,1].set_ylabel ('Y', fontsize = 15)\n",
    "    axs[0,1].grid()\n",
    "\n",
    "    axs[0,2].scatter(x3,y3, s = 70, facecolors = 'none', edgecolors = 'g') \n",
    "    axs[0,2].set_title(f'Mersenne-Twister', fontstyle = 'italic', fontsize = 25)\n",
    "    axs[0,2].set_xlabel ('X', fontsize = 15)\n",
    "    axs[0,2].set_ylabel ('Y', fontsize = 15)\n",
    "    axs[0,2].grid()\n",
    "    \n",
    "    \n",
    "    idx1 = np.argwhere((X_A <= x1) & (x1 <= X_B))\n",
    "    idx2 = np.argwhere((X_A <= x2) & (x2 <= X_B))\n",
    "    idx3 = np.argwhere((X_A <= x3) & (x3 <= X_B))\n",
    "    \n",
    "    x1_int = x1[idx1]\n",
    "    x2_int = x2[idx2]\n",
    "    x3_int = x3[idx3]\n",
    "    \n",
    "    y1_int = y1[idx1]\n",
    "    y2_int = y2[idx2]\n",
    "    y3_int = y3[idx3]\n",
    "    \n",
    "    axs[1,0].scatter(x1_int,y1_int, s = 70, facecolors = 'none', edgecolors = 'g') \n",
    "    axs[1,0].set_title(f'GGL', fontstyle = 'italic', fontsize = 25)\n",
    "    axs[1,0].set_xlabel ('X', fontsize = 15)\n",
    "    axs[1,0].set_ylabel ('Y', fontsize = 15)\n",
    "    axs[1,0].set_xlim(left= X_A, right=X_B)\n",
    "    axs[1,0].grid()\n",
    "\n",
    "    axs[1,1].scatter(x2_int,y2_int, s = 70, facecolors = 'none', edgecolors = 'g') \n",
    "    axs[1,1].set_title(f'RAN3', fontstyle = 'italic', fontsize = 25)\n",
    "    axs[1,1].set_xlabel ('X', fontsize = 15)\n",
    "    axs[1,1].set_ylabel ('Y', fontsize = 15)\n",
    "    axs[1,1].set_xlim(left= X_A, right=X_B)\n",
    "    axs[1,1].grid()\n",
    "\n",
    "    axs[1,2].scatter(x3_int,y3_int, s = 70, facecolors = 'none', edgecolors = 'g') \n",
    "    axs[1,2].set_title(f'Mersenne-Twister', fontstyle = 'italic', fontsize = 25)\n",
    "    axs[1,2].set_xlabel ('X', fontsize = 15)\n",
    "    axs[1,2].set_ylabel ('Y', fontsize = 15)\n",
    "    axs[1,2].set_xlim(left= X_A, right=X_B)\n",
    "    axs[1,2].grid()\n"
   ]
  },
  {
   "cell_type": "code",
   "execution_count": 3,
   "id": "31fa81a5",
   "metadata": {},
   "outputs": [
    {
     "name": "stdout",
     "output_type": "stream",
     "text": [
      "The 1-th moment of the random generated points is: 0.50\n",
      "The 2-th moment of the random generated points is: 0.33\n"
     ]
    },
    {
     "data": {
      "image/png": "[encoded data removed]",
      "text/plain": [
       "<Figure size 600x300 with 1 Axes>"
      ]
     },
     "metadata": {},
     "output_type": "display_data"
    }
   ],
   "source": [
    "# Impelementation of GGL \n",
    "\n",
    "def GGL(a, m, x_i):\n",
    "    return (a * x_i) % m \n",
    "\n",
    "x_0 = 1 # Initial seed \n",
    "x_i = x_0\n",
    "\n",
    "A = 16807\n",
    "M = pow(2, 31) -1\n",
    "\n",
    "rand = list()\n",
    "\n",
    "for i in range(N):\n",
    "    x_i = GGL(A, M, x_i)\n",
    "    norm_x_i = x_i / M \n",
    "    rand.append(norm_x_i)\n",
    "\n",
    "rand = np.array(rand)\n",
    "\n",
    "mean = rand.mean()\n",
    "var = rand.var()\n",
    "moment_2 = var + mean**2\n",
    "\n",
    "print(f\"The 1-th moment of the random generated points is: {mean:.2f}\")\n",
    "print(f\"The 2-th moment of the random generated points is: {moment_2:.2f}\")\n",
    "\n",
    "\n",
    "\n",
    "x1 = rand[::2]\n",
    "y1 = rand[1::2]\n",
    "\n",
    "title = f\"Plot {N} points with GGL\"\n",
    "plot_figure(x1,y1, title)"
   ]
  },
  {
   "cell_type": "code",
   "execution_count": null,
   "id": "8f024398",
   "metadata": {},
   "outputs": [
    {
     "name": "stdout",
     "output_type": "stream",
     "text": [
      "The 1-th moment of the random generated points is: 0.50\n",
      "The 2-th moment of the random generated points is: 0.33\n"
     ]
    }
   ],
   "source": [
    "# Implementation of RAN3\n",
    "\n",
    "def RAN3(x, m):\n",
    "    return(x[-55] - x[-24]) % m\n",
    "    \n",
    "\n",
    "# Initialization phase: run GGL \n",
    "initial_runs = 55\n",
    "x_0 = 1 \n",
    "x_i = x_0\n",
    "\n",
    "rand = list()\n",
    "\n",
    "for i in range(initial_runs):\n",
    "    x_i = GGL(A, M, x_i)\n",
    "    rand.append(x_i)\n",
    "\n",
    "\n",
    "\n",
    "M_RAN3 = pow(10, 9)\n",
    "\n",
    "for i in range(N):\n",
    "    x_i = RAN3(rand, M_RAN3)\n",
    "    rand.append(x_i)\n",
    "\n",
    "rand = np.array(rand)\n",
    "rand = rand[55:]/M_RAN3\n",
    "\n",
    "mean = rand.mean()\n",
    "var = rand.var()\n",
    "moment_2 = var + mean**2\n",
    "\n",
    "print(f\"The 1-th moment of the random generated points is: {mean:.2f}\")\n",
    "print(f\"The 2-th moment of the random generated points is: {moment_2:.2f}\")\n",
    "\n",
    "\n",
    "x2 = rand[::2]\n",
    "y2 = rand[1::2]\n",
    "\n",
    "title = f\"Plot {N} points with RAN3\"\n",
    "plot_figure(x2, y2,  title)"
   ]
  },
  {
   "cell_type": "code",
   "execution_count": null,
   "id": "462b1f5d",
   "metadata": {},
   "outputs": [],
   "source": [
    "# Implement built-in random generator in Python \n",
    "\n",
    "rand = list()\n",
    "for _ in range(N):\n",
    "    x_i = random.random()\n",
    "    rand.append(x_i)\n",
    "\n",
    "rand = np.array(rand)\n",
    "\n",
    "mean = rand.mean()\n",
    "var = rand.var()\n",
    "moment_2 = var + mean**2\n",
    "\n",
    "print(f\"The 1-th moment of the random generated points is: {mean:.2f}\")\n",
    "print(f\"The 2-th moment of the random generated points is: {moment_2:.2f}\")\n",
    "\n",
    "# Plot the result\n",
    "x3 = rand[::2]\n",
    "y3 = rand[1::2]\n",
    "\n",
    "title = f\"Plot {N} points with Mersenne-Twister\"\n",
    "plot_figure(x3, y3,  title)"
   ]
  },
  {
   "cell_type": "code",
   "execution_count": null,
   "id": "82d493d3",
   "metadata": {},
   "outputs": [],
   "source": [
    "# Plot comparison fig\n",
    "plot_compare_RNG(x1, y1, x2, y2, x3, y3)"
   ]
  },
  {
   "cell_type": "markdown",
   "id": "0a59762a",
   "metadata": {},
   "source": [
    "From the plots is possible to observe that the random points generated follows a $ X \\sim U(0,1)\\text{ and }  Y \\sim U(0,1)$. With $N = 20000$ ($N$- number of generated points) the points cover completely the square given by $ (0,1) \\times (0,1)$.\n",
    "\n",
    "Moreover, all three generators work fine since they respect the $moment\\ test$ for $k = 1$ since they have a mean of $0.5$ and for $k = 2$ since the second moment is $0.33$.\n",
    "\n",
    "The second row of plots is used to inspect a little interval $[0.5000, 0.5001]$. As it possible to see when the number of points, $N$, is lower it is difficult to distinguish between generators. Instead, by trying to restart the notebook with an $N$ greater than $20000$ is possible to observe some differences."
   ]
  },
  {
   "cell_type": "markdown",
   "id": "a8a25e49",
   "metadata": {},
   "source": [
    "## Exercise 2"
   ]
  },
  {
   "cell_type": "code",
   "execution_count": null,
   "id": "535f5177",
   "metadata": {},
   "outputs": [],
   "source": [
    "# Utils cell\n",
    "def plot_figure(agents: np.array, log: bool = False):\n",
    "    \n",
    "    fig, axs = plt.subplots(1, 4, figsize = (15,2))\n",
    "    bins = [10, 30, 50, 100]\n",
    "\n",
    "    axs[0].hist(agents, facecolor = 'cyan', edgecolor = 'b', bins = bins[0], linewidth = 1, density = True)\n",
    "    axs[0].set_title(f'Hist with {bins[0]} bins', fontstyle = 'italic')\n",
    "    axs[0].set_xlabel ('Optimism/Pessimism', fontsize = 10)\n",
    "    axs[0].set_ylabel ('PMF', fontsize = 10)\n",
    "    axs[0].grid()\n",
    "\n",
    "\n",
    "    axs[1].hist(agents, facecolor = 'cyan', edgecolor = 'b', bins = bins[1], linewidth = 1, density = True)\n",
    "    axs[1].set_xlabel ('Optimism/Pessimism', fontsize = 10)\n",
    "    axs[1].set_title(f'Hist with {bins[1]} bins', fontstyle = 'italic')\n",
    "    axs[1].grid()\n",
    "\n",
    "\n",
    "    axs[2].hist(agents, facecolor = 'cyan', edgecolor = 'b', bins = bins[2], linewidth = 1, density = True)\n",
    "    axs[2].set_xlabel ('Optimism/Pessimism', fontsize = 10)\n",
    "    axs[2].set_title(f'Hist with {bins[2]} bins', fontstyle = 'italic')\n",
    "    axs[2].grid()\n",
    "\n",
    "\n",
    "    axs[3].hist(agents, facecolor = 'cyan',  edgecolor = 'b', bins = bins[3], linewidth = 1, density = True)\n",
    "    axs[3].set_xlabel ('Optimism/Pessimism', fontsize = 10)\n",
    "    axs[3].set_title(f'Hist with {bins[3]} bins', fontstyle = 'italic')\n",
    "    axs[3].grid()\n",
    "    \n",
    "    if log:\n",
    "        for i in range(4):\n",
    "            axs[i].set_yscale('log')\n",
    "\n",
    "        \n",
    "\n",
    "    plt.show ()"
   ]
  },
  {
   "cell_type": "markdown",
   "id": "768e2dc8",
   "metadata": {},
   "source": [
    "### Exercise 2.a"
   ]
  },
  {
   "cell_type": "code",
   "execution_count": null,
   "id": "4e7405b1",
   "metadata": {
    "scrolled": true
   },
   "outputs": [],
   "source": [
    "NR_AGENTS = 500000\n",
    "NR_INTERACTIONS = 100\n",
    "\n",
    "agents = np.full((NR_AGENTS, ), 50)\n",
    "\n",
    "for i in range(NR_AGENTS):\n",
    "    for _ in range(NR_INTERACTIONS):\n",
    "        u = np.random.random()\n",
    "        value = -1\n",
    "        if u >= 0.5: \n",
    "            value = 1\n",
    "            \n",
    "        agents[i] = agents[i] + value\n",
    "\n",
    "print(f\"The mean of the distribution is {agents.mean():.2f} and the variance is {agents.var():.2f}.\")\n",
    "plot_figure(agents)"
   ]
  },
  {
   "cell_type": "markdown",
   "id": "b8552d46",
   "metadata": {},
   "source": [
    "As it is possible to observe from the above plot, the distribution tends to be Gaussian. As the number of bins grows it is easier to notice that. This is an example of the most famous statistical theorem: the Central Limit Theorem. We can see the optimism/pessimism of each person as a random variable, $S_i$, which is the sum of a constant value ($50$) and $100$ uniform discrete random variables ($U_i \\sim U\\{-1, 1\\}$):\n",
    "\n",
    "$$S_i = 50 + U_1 + U_2 + \\ldots + U_{100}$$.\n",
    "\n",
    "In this case each $S_i$ follows a normal distribution with $\\mathbb{E}[S_i] = 50$ and $Var[S_i] = 100$. \n"
   ]
  },
  {
   "cell_type": "markdown",
   "id": "f06589c3",
   "metadata": {},
   "source": [
    "### Exercise 2.b"
   ]
  },
  {
   "cell_type": "code",
   "execution_count": null,
   "id": "0bd8d19e",
   "metadata": {},
   "outputs": [],
   "source": [
    "NR_AGENTS = 500000\n",
    "NR_INTERACTIONS = 100\n",
    "\n",
    "agents = np.full((NR_AGENTS, ), 50)\n",
    "\n",
    "for i in range(NR_AGENTS):\n",
    "    for _ in range(NR_INTERACTIONS):\n",
    "        u = np.random.random()\n",
    "        value = -0.5\n",
    "        if u >= 0.5: \n",
    "            value = 10\n",
    "            \n",
    "        agents[i] = agents[i] + value\n",
    "\n",
    "plot_figure(agents)"
   ]
  },
  {
   "cell_type": "markdown",
   "id": "f0ca1926",
   "metadata": {},
   "source": [
    "Similar to point **2.a** we obtain a Gaussian distribution, the only differences are the mean and the variance. These differences are given because the distribution of the random variable is changed from a $U\\{-1,1\\}$ to $U\\{-0.5,10\\}$."
   ]
  },
  {
   "cell_type": "markdown",
   "id": "3f251ecc",
   "metadata": {},
   "source": [
    "### Exercise 2.c"
   ]
  },
  {
   "cell_type": "code",
   "execution_count": null,
   "id": "a2cfd0b2",
   "metadata": {},
   "outputs": [],
   "source": [
    "NR_AGENTS = 500000\n",
    "NR_INTERACTIONS = 10\n",
    "\n",
    "agents = np.full((NR_AGENTS, ), 50)\n",
    "\n",
    "for i in range(NR_AGENTS):\n",
    "    for j in range(NR_INTERACTIONS):\n",
    "        u = np.random.random()\n",
    "        mult = 1/0.7\n",
    "        if u >= 0.5: \n",
    "            mult = 0.7\n",
    "        \n",
    "        agents[i] = agents[i] * mult\n",
    "\n",
    "plot_figure(agents, True)"
   ]
  },
  {
   "cell_type": "markdown",
   "id": "f60644f4",
   "metadata": {},
   "source": [
    "Also, this last exercise is a representation of the Central Limit Theorem, but since the distribution is given by a multiplicative process the result is a Lognormal distribution."
   ]
  },
  {
   "cell_type": "code",
   "execution_count": null,
   "id": "98ad9c50",
   "metadata": {},
   "outputs": [],
   "source": [
    "NR_AGENTS = 500000\n",
    "NR_INTERACTIONS = 100\n",
    "\n",
    "agents = np.full((NR_AGENTS, ), 50)\n",
    "\n",
    "for i in range(NR_AGENTS):\n",
    "    for j in range(NR_INTERACTIONS):\n",
    "        u = np.random.random()\n",
    "        mult = 1/0.7\n",
    "        if u >= 0.5: \n",
    "            mult = 0.7\n",
    "        \n",
    "        agents[i] = agents[i] * mult\n",
    "\n",
    "plot_figure(agents, True)"
   ]
  },
  {
   "cell_type": "markdown",
   "id": "327340d2",
   "metadata": {},
   "source": [
    "In this second, part I tried to plot the result of the multiplicative process after $100$ interactions. The problem with this representation is that the optimism/pessimism scale goes from $0 \\text{ to } 3 \\times 10^{8}$."
   ]
  },
  {
   "cell_type": "code",
   "execution_count": null,
   "id": "ff565c91",
   "metadata": {},
   "outputs": [],
   "source": []
  },
  {
   "cell_type": "code",
   "execution_count": null,
   "id": "2fb2f313",
   "metadata": {},
   "outputs": [],
   "source": []
  }
 ],
 "metadata": {
  "kernelspec": {
   "display_name": "Python 3.9.5 64-bit",
   "language": "python",
   "name": "python3"
  },
  "language_info": {
   "codemirror_mode": {
    "name": "ipython",
    "version": 3
   },
   "file_extension": ".py",
   "mimetype": "text/x-python",
   "name": "python",
   "nbconvert_exporter": "python",
   "pygments_lexer": "ipython3",
   "version": "3.9.5"
  },
  "vscode": {
   "interpreter": {
    "hash": "f9f85f796d01129d0dd105a088854619f454435301f6ffec2fea96ecbd9be4ac"
   }
  }
 },
 "nbformat": 4,
 "nbformat_minor": 5
}
